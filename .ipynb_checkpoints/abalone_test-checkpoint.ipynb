{
 "cells": [
  {
   "cell_type": "code",
   "execution_count": 8,
   "metadata": {},
   "outputs": [],
   "source": [
    "%run abalone.ipynb"
   ]
  },
  {
   "cell_type": "code",
   "execution_count": 9,
   "metadata": {},
   "outputs": [
    {
     "name": "stdout",
     "output_type": "stream",
     "text": [
      "Epoch 1: loss=33.707, accuracy=0.554/0.816\n",
      "Epoch 2: loss=8.238, accuracy=0.818/0.818\n",
      "Epoch 3: loss=7.597, accuracy=0.810/0.815\n",
      "Epoch 4: loss=7.487, accuracy=0.809/0.812\n",
      "Epoch 5: loss=7.405, accuracy=0.808/0.813\n",
      "Epoch 6: loss=7.335, accuracy=0.808/0.813\n",
      "Epoch 7: loss=7.272, accuracy=0.809/0.811\n",
      "Epoch 8: loss=7.222, accuracy=0.807/0.813\n",
      "Epoch 9: loss=7.175, accuracy=0.808/0.814\n",
      "Epoch 10: loss=7.133, accuracy=0.809/0.813\n",
      "\n",
      "Final Test : final accuracy = 0.813\n"
     ]
    }
   ],
   "source": [
    "abalone_exec()"
   ]
  },
  {
   "cell_type": "code",
   "execution_count": 10,
   "metadata": {},
   "outputs": [
    {
     "name": "stdout",
     "output_type": "stream",
     "text": [
      "[[0.98769075]\n",
      " [1.51532071]\n",
      " [1.6873666 ]\n",
      " [2.05740243]\n",
      " [1.62892025]\n",
      " [0.60655974]\n",
      " [2.38639424]\n",
      " [0.53231314]\n",
      " [0.46589665]\n",
      " [1.03504576]]\n",
      "[4.18823857]\n"
     ]
    }
   ],
   "source": [
    "print(weight)\n",
    "print(bias)"
   ]
  },
  {
   "cell_type": "code",
   "execution_count": 11,
   "metadata": {},
   "outputs": [
    {
     "name": "stdout",
     "output_type": "stream",
     "text": [
      "Epoch 20: loss=6.869, accuracy=0.810/0.804\n",
      "Epoch 40: loss=6.640, accuracy=0.812/0.807\n",
      "Epoch 60: loss=6.469, accuracy=0.814/0.809\n",
      "Epoch 80: loss=6.315, accuracy=0.818/0.810\n",
      "Epoch 100: loss=6.184, accuracy=0.819/0.812\n",
      "\n",
      "Final Test : final accuracy = 0.812\n"
     ]
    }
   ],
   "source": [
    "LEARNING_RATE = 0.01\n",
    "abalone_exec(epoch_count=100, mb_size=100, report=20)"
   ]
  },
  {
   "cell_type": "code",
   "execution_count": null,
   "metadata": {},
   "outputs": [],
   "source": []
  }
 ],
 "metadata": {
  "kernelspec": {
   "display_name": "Python 3",
   "language": "python",
   "name": "python3"
  },
  "language_info": {
   "codemirror_mode": {
    "name": "ipython",
    "version": 3
   },
   "file_extension": ".py",
   "mimetype": "text/x-python",
   "name": "python",
   "nbconvert_exporter": "python",
   "pygments_lexer": "ipython3",
   "version": "3.6.8"
  }
 },
 "nbformat": 4,
 "nbformat_minor": 2
}
